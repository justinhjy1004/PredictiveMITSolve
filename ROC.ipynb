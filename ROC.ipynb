{
 "cells": [
  {
   "cell_type": "code",
   "execution_count": 1,
   "metadata": {},
   "outputs": [],
   "source": [
    "# Import necessary libraries\n",
    "from sklearn.model_selection import train_test_split\n",
    "from sklearn.ensemble import RandomForestClassifier\n",
    "import numpy as np\n",
    "from transformers import BertTokenizer, BertModel\n",
    "import polars as pl\n",
    "import re\n",
    "from sklearn.metrics import roc_curve, roc_auc_score\n",
    "from imblearn.under_sampling import RandomUnderSampler\n",
    "from sentence_transformers import SentenceTransformer\n",
    "import matplotlib.pyplot as plt"
   ]
  },
  {
   "cell_type": "code",
   "execution_count": 2,
   "metadata": {},
   "outputs": [],
   "source": [
    "df = pl.read_csv(\"./Data/MITSolve2023.csv\")"
   ]
  },
  {
   "cell_type": "code",
   "execution_count": 3,
   "metadata": {},
   "outputs": [],
   "source": [
    "df = df[list(rename_map.keys())]\n",
    "df = df.rename(rename_map)\n",
    "df = df.fill_nan(\" \")"
   ]
  },
  {
   "cell_type": "code",
   "execution_count": 4,
   "metadata": {},
   "outputs": [],
   "source": [
    "df = df.with_columns(\n",
    "    pl.concat_str(\n",
    "        [\n",
    "            pl.col(\"DevStage1\"),\n",
    "            pl.col(\"DevStage2\"),\n",
    "        ],\n",
    "        separator=\" \",\n",
    "    ).alias(\"DevStage\"))\n",
    "\n",
    "df = df.with_columns(\n",
    "    pl.concat_str(\n",
    "        [\n",
    "            pl.col(\"FinancialSustainability1\"),\n",
    "            pl.col(\"FinancialSustainability2\"),\n",
    "        ],\n",
    "        separator=\" \",\n",
    "    ).alias(\"FinancialSustainability\"))\n",
    "\n",
    "df = df.with_columns(\n",
    "    pl.concat_str(\n",
    "        [\n",
    "            pl.col(\"CoreTech\"),\n",
    "            pl.col(\"TechValidation\"),\n",
    "        ],\n",
    "        separator=\" \",\n",
    "    ).alias(\"Tech\"))\n",
    "\n",
    "df = df.drop([\"DevStage1\", \"DevStage2\", \"FinancialSustainability1\", \"FinancialSustainability2\", \"CoreTech\", \"TechValidation\"])"
   ]
  },
  {
   "cell_type": "code",
   "execution_count": 6,
   "metadata": {},
   "outputs": [
    {
     "data": {
      "text/html": [
       "<div><style>\n",
       ".dataframe > thead > tr,\n",
       ".dataframe > tbody > tr {\n",
       "  text-align: right;\n",
       "  white-space: pre-wrap;\n",
       "}\n",
       "</style>\n",
       "<small>shape: (5, 22)</small><table border=\"1\" class=\"dataframe\"><thead><tr><th>ID</th><th>Challenge</th><th>Status</th><th>Problem</th><th>Solution</th><th>Target</th><th>TeamPosition</th><th>Dimension</th><th>TheoryOfChange</th><th>HQ</th><th>CountryHQ</th><th>NumServed</th><th>WhySolve</th><th>SupportArea</th><th>Innovative</th><th>ImpactGoals</th><th>MeasureImpact</th><th>DEI</th><th>BusinessModel</th><th>DevStage</th><th>FinancialSustainability</th><th>Tech</th></tr><tr><td>i64</td><td>str</td><td>str</td><td>str</td><td>str</td><td>str</td><td>str</td><td>str</td><td>str</td><td>str</td><td>str</td><td>str</td><td>str</td><td>str</td><td>str</td><td>str</td><td>str</td><td>str</td><td>str</td><td>str</td><td>str</td><td>str</td></tr></thead><tbody><tr><td>70315</td><td>&quot;Climate Adapta…</td><td>&quot;Semi-Finalist&quot;</td><td>&quot;&lt;p&gt;Safe and se…</td><td>&quot;&lt;p&gt;Echale is a…</td><td>&quot;&lt;p&gt;Echale hous…</td><td>&quot;&lt;p&gt;Through fra…</td><td>&quot;Support inform…</td><td>&quot;&lt;p&gt;Echale Inte…</td><td>&quot;Washington D.C…</td><td>&quot;United States&quot;</td><td>&quot;&lt;p&gt;In Mexico, …</td><td>&quot;&lt;p&gt;We are very…</td><td>&quot;Financial (e.g…</td><td>&quot;&lt;p&gt;The most si…</td><td>&quot;&lt;p&gt;&lt;strong&gt;Dir…</td><td>&quot;&lt;p&gt;We measure …</td><td>&quot;&lt;p&gt;Echale Inte…</td><td>&quot;&lt;p&gt;Through its…</td><td>&quot;Growth: An org…</td><td>&quot;&lt;p&gt;Echale Inte…</td><td>&quot;&lt;p&gt;Echale’s su…</td></tr><tr><td>70331</td><td>&quot;Climate Adapta…</td><td>&quot;Published&quot;</td><td>&quot;&lt;p&gt;&lt;strong&gt;Cli…</td><td>&quot;&lt;figure&gt;&lt;img s…</td><td>&quot;&lt;p&gt;&lt;strong&gt;Who…</td><td>&quot;&lt;p&gt;&lt;strong&gt;Int…</td><td>&quot;Support inform…</td><td>&quot;&lt;p&gt;Solarshelte…</td><td>&quot;Caloocan City …</td><td>&quot;Philippines&quot;</td><td>&quot;&lt;p&gt;None so far…</td><td>&quot;&lt;p&gt;We are appl…</td><td>&quot;Business Model…</td><td>&quot;&lt;p&gt;Solarshelte…</td><td>&quot;&lt;ol&gt;&lt;li&gt;&lt;stron…</td><td>&quot;&lt;p&gt;To measure …</td><td>&quot;&lt;p&gt;At Hypershe…</td><td>&quot;&lt;p&gt;&lt;strong&gt;Tar…</td><td>&quot;Prototype: A v…</td><td>&quot;&lt;p&gt;&lt;strong&gt;1. …</td><td>&quot;&lt;p&gt;&lt;strong&gt;Cor…</td></tr><tr><td>70469</td><td>&quot;Climate Adapta…</td><td>&quot;Published&quot;</td><td>&quot;&lt;p&gt;The specifi…</td><td>&quot;&lt;p&gt;Our project…</td><td>&quot;&lt;p&gt;Our project…</td><td>&quot;&lt;p&gt;Tabit Smart…</td><td>&quot;Adapt land and…</td><td>&quot;&lt;p&gt;&lt;strong&gt;The…</td><td>&quot;Aydın/ Turkey&quot;</td><td>&quot;Turkiye&quot;</td><td>&quot;&lt;p&gt;We have rea…</td><td>&quot;&lt;p&gt;We are appl…</td><td>&quot;Business Model…</td><td>&quot;&lt;p&gt;Our solutio…</td><td>&quot;&lt;p&gt;Our impact …</td><td>&quot;&lt;p&gt;To measure …</td><td>&quot;&lt;p&gt; As a TAbit…</td><td>&quot;&lt;p&gt;With an app…</td><td>&quot;Prototype: A v…</td><td>&quot;&lt;p&gt;Our plan fo…</td><td>&quot;&lt;p&gt;The core te…</td></tr><tr><td>70482</td><td>&quot;Climate Adapta…</td><td>&quot;Published&quot;</td><td>&quot;&lt;p&gt;The specifi…</td><td>&quot;&lt;p&gt;To create e…</td><td>&quot;&lt;p&gt;Our solutio…</td><td>&quot;&lt;p&gt;Our team at…</td><td>&quot;Reduce emissio…</td><td>&quot;&lt;p&gt;Our solutio…</td><td>&quot;Mpigi Town/ Na…</td><td>&quot;Uganda&quot;</td><td>&quot;&lt;p&gt;Currently, …</td><td>&quot;&lt;p&gt;We are appl…</td><td>&quot;Business Model…</td><td>&quot;&lt;p&gt;Upcycle Afr…</td><td>&quot;&lt;p&gt;Our impact …</td><td>&quot;&lt;p&gt;As an organ…</td><td>&quot;&lt;p&gt;At Upcycle …</td><td>&quot;&lt;p&gt;Upcycle Afr…</td><td>&quot;Growth: An org…</td><td>&quot;&lt;p&gt;Upcycle Afr…</td><td>&quot;&lt;p&gt;Our solutio…</td></tr><tr><td>70510</td><td>&quot;Climate Adapta…</td><td>&quot;Published&quot;</td><td>&quot;&lt;p&gt;Heating and…</td><td>&quot;&lt;p&gt;At least an…</td><td>&quot;&lt;p&gt;The solutio…</td><td>&quot;&lt;p&gt;I have long…</td><td>&quot;Reduce emissio…</td><td>&quot;&lt;p&gt;The target …</td><td>&quot;Hertfordshire&quot;</td><td>&quot;United Kingdom…</td><td>&quot;&lt;p&gt;Starlite ha…</td><td>&quot;&lt;p&gt;My slogan i…</td><td>&quot;Financial (e.g…</td><td>&quot;&lt;p&gt;Once the pl…</td><td>&quot;&lt;p&gt;We need to …</td><td>&quot;&lt;p&gt;Progress ha…</td><td>&quot;&lt;p&gt;I am an int…</td><td>&quot;&lt;p&gt;We would sl…</td><td>&quot;Prototype: A v…</td><td>&quot;&lt;p&gt;We would ha…</td><td>&quot;&lt;p&gt;A barrier t…</td></tr></tbody></table></div>"
      ],
      "text/plain": [
       "shape: (5, 22)\n",
       "┌───────┬────────────┬────────────┬────────────┬───┬───────────┬───────────┬───────────┬───────────┐\n",
       "│ ID    ┆ Challenge  ┆ Status     ┆ Problem    ┆ … ┆ BusinessM ┆ DevStage  ┆ Financial ┆ Tech      │\n",
       "│ ---   ┆ ---        ┆ ---        ┆ ---        ┆   ┆ odel      ┆ ---       ┆ Sustainab ┆ ---       │\n",
       "│ i64   ┆ str        ┆ str        ┆ str        ┆   ┆ ---       ┆ str       ┆ ility     ┆ str       │\n",
       "│       ┆            ┆            ┆            ┆   ┆ str       ┆           ┆ ---       ┆           │\n",
       "│       ┆            ┆            ┆            ┆   ┆           ┆           ┆ str       ┆           │\n",
       "╞═══════╪════════════╪════════════╪════════════╪═══╪═══════════╪═══════════╪═══════════╪═══════════╡\n",
       "│ 70315 ┆ Climate    ┆ Semi-Final ┆ <p>Safe    ┆ … ┆ <p>Throug ┆ Growth:   ┆ <p>Echale ┆ <p>Echale │\n",
       "│       ┆ Adaptation ┆ ist        ┆ and secure ┆   ┆ h its fra ┆ An organi ┆ Internati ┆ ’s        │\n",
       "│       ┆ &          ┆            ┆ housing is ┆   ┆ nchisees, ┆ zation    ┆ onal will ┆ success   │\n",
       "│       ┆ Low-Carbon ┆            ┆ a …        ┆   ┆ Echa…     ┆ with an … ┆ <st…      ┆ is driven │\n",
       "│       ┆ …          ┆            ┆            ┆   ┆           ┆           ┆           ┆ by…       │\n",
       "│ 70331 ┆ Climate    ┆ Published  ┆ <p><strong ┆ … ┆ <p><stron ┆ Prototype ┆ <p><stron ┆ <p><stron │\n",
       "│       ┆ Adaptation ┆            ┆ >Climate   ┆   ┆ g>Target  ┆ : A       ┆ g>1.      ┆ g>Core    │\n",
       "│       ┆ &          ┆            ┆ change has ┆   ┆ Customers ┆ venture   ┆ Service   ┆ Technolog │\n",
       "│       ┆ Low-Carbon ┆            ┆ re…        ┆   ┆ :</st…    ┆ or        ┆ Contracts ┆ y: Sola…  │\n",
       "│       ┆ …          ┆            ┆            ┆   ┆           ┆ organiza… ┆ …         ┆           │\n",
       "│ 70469 ┆ Climate    ┆ Published  ┆ <p>The     ┆ … ┆ <p>With   ┆ Prototype ┆ <p>Our    ┆ <p>The    │\n",
       "│       ┆ Adaptation ┆            ┆ specific   ┆   ┆ an        ┆ : A       ┆ plan for  ┆ core tech │\n",
       "│       ┆ &          ┆            ┆ problem    ┆   ┆ approach  ┆ venture   ┆ achieving ┆ nology    │\n",
       "│       ┆ Low-Carbon ┆            ┆ that our…  ┆   ┆ that      ┆ or        ┆ financ…   ┆ powering  │\n",
       "│       ┆ …          ┆            ┆            ┆   ┆ spans t…  ┆ organiza… ┆           ┆ …         │\n",
       "│ 70482 ┆ Climate    ┆ Published  ┆ <p>The     ┆ … ┆ <p>Upcycl ┆ Growth:   ┆ <p>Upcycl ┆ <p>Our    │\n",
       "│       ┆ Adaptation ┆            ┆ specific   ┆   ┆ e         ┆ An organi ┆ e         ┆ solution  │\n",
       "│       ┆ &          ┆            ┆ problem we ┆   ┆ Africa's  ┆ zation    ┆ Africa's  ┆ is        │\n",
       "│       ┆ Low-Carbon ┆            ┆ are a…     ┆   ┆ business  ┆ with an … ┆ financial ┆ powered   │\n",
       "│       ┆ …          ┆            ┆            ┆   ┆ mod…      ┆           ┆ su…       ┆ by se…    │\n",
       "│ 70510 ┆ Climate    ┆ Published  ┆ <p>Heating ┆ … ┆ <p>We     ┆ Prototype ┆ <p>We     ┆ <p>A      │\n",
       "│       ┆ Adaptation ┆            ┆ and        ┆   ┆ would     ┆ : A       ┆ would     ┆ barrier   │\n",
       "│       ┆ &          ┆            ┆ cooling    ┆   ┆ slash     ┆ venture   ┆ have to   ┆ to temper │\n",
       "│       ┆ Low-Carbon ┆            ┆ buildings… ┆   ┆ energy    ┆ or        ┆ sell      ┆ ature     │\n",
       "│       ┆ …          ┆            ┆            ┆   ┆ bills f…  ┆ organiza… ┆ Starlit…  ┆ tran…     │\n",
       "└───────┴────────────┴────────────┴────────────┴───┴───────────┴───────────┴───────────┴───────────┘"
      ]
     },
     "execution_count": 6,
     "metadata": {},
     "output_type": "execute_result"
    }
   ],
   "source": [
    "df.head()"
   ]
  },
  {
   "cell_type": "code",
   "execution_count": 7,
   "metadata": {},
   "outputs": [
    {
     "name": "stderr",
     "output_type": "stream",
     "text": [
      "/var/folders/3k/zk90yh5d7l72d_pjvqksx7hr0000gq/T/ipykernel_3253/3985718398.py:3: DeprecationWarning: `apply` is deprecated. It has been renamed to `map_elements`.\n",
      "  df[col] = df[col].apply(encoder)\n"
     ]
    }
   ],
   "source": [
    "df = df.drop([\"HQ\", \"CountryHQ\", \"SupportArea\"])\n",
    "for col in df.columns[3:]:\n",
    "    df[col] = df[col].apply(encoder)"
   ]
  },
  {
   "cell_type": "code",
   "execution_count": null,
   "metadata": {},
   "outputs": [],
   "source": [
    "df.write_parquet(\"./Data/encoded.parquet\")"
   ]
  },
  {
   "cell_type": "code",
   "execution_count": null,
   "metadata": {},
   "outputs": [],
   "source": [
    "df[\"PS\"] = df.apply(lambda x: x[\"Problem\"] + x[\"Solution\"], axis = 1)\n",
    "df[\"PST\"] = df.apply(lambda x: x[\"Problem\"] + x[\"Solution\"] + x[\"Target\"], axis = 1)"
   ]
  },
  {
   "cell_type": "code",
   "execution_count": null,
   "metadata": {},
   "outputs": [],
   "source": [
    "X = np.array([i for i in df[\"Problem\"] + df[\"Team\"] + df[\"DevStage\"] + df[\"Target\"] ])\n",
    "y = np.array([0 if i == \"Published\" else 1 for i in df[\"Status\"]])\n",
    "\n",
    "rus = RandomUnderSampler(random_state=42)\n",
    "X, y = rus.fit_resample(X, y)"
   ]
  },
  {
   "cell_type": "code",
   "execution_count": null,
   "metadata": {},
   "outputs": [],
   "source": [
    "# Split the dataset into training and testing sets\n",
    "X_train, X_test, y_train, y_test = train_test_split(X, y, test_size=0.5, random_state=42)\n",
    "\n",
    "# Create a Random Forest classifier\n",
    "rf_classifier = RandomForestClassifier(n_estimators=100, random_state=42)\n",
    "\n",
    "# Train the classifier on the training data\n",
    "rf_classifier.fit(X_train, y_train)\n",
    "\n",
    "# Make predictions on the test set\n",
    "y_pred = rf_classifier.predict_proba(X_test)\n",
    "y_pred = [i[1] for i in y_pred]"
   ]
  },
  {
   "cell_type": "code",
   "execution_count": null,
   "metadata": {},
   "outputs": [],
   "source": [
    "# Calculate ROC curve and AUC\n",
    "fpr, tpr, thresholds = roc_curve(y_test, y_pred)\n",
    "auc = roc_auc_score(y_test, y_pred)\n",
    "\n",
    "# Plot the ROC curve\n",
    "plt.plot(fpr, tpr, label=f'AUC: {auc:.4f}')\n",
    "plt.plot([0, 1], [0, 1], linestyle='--', color='black')\n",
    "plt.xlabel('False Positive Rate')\n",
    "plt.ylabel('True Positive Rate')\n",
    "plt.title('Published or Selected (Problem + Target + DevStage + TeamPosition)')\n",
    "plt.legend()\n",
    "plt.show()"
   ]
  },
  {
   "cell_type": "code",
   "execution_count": null,
   "metadata": {},
   "outputs": [],
   "source": [
    "# Predicting finalist from semifinalist\n",
    "df_2 = df[df[\"Status\"] != \"Published\"]\n",
    "X = np.array([i for i in  df_2[\"Problem\"] + df_2[\"Target\"] ])\n",
    "y = np.array([0 if i == \"Semi-Finalist\" else 1 for i in df_2[\"Status\"]])\n",
    "\n",
    "rus = RandomUnderSampler(random_state=42)\n",
    "X, y = rus.fit_resample(X, y)\n",
    "\n",
    "# Split the dataset into training and testing sets\n",
    "X_train, X_test, y_train, y_test = train_test_split(X, y, test_size=0.5, random_state=42)\n",
    "\n",
    "# Create a Random Forest classifier\n",
    "rf_classifier = RandomForestClassifier(n_estimators=100, random_state=42)\n",
    "\n",
    "# Train the classifier on the training data\n",
    "rf_classifier.fit(X_train, y_train)\n",
    "\n",
    "# Make predictions on the test set\n",
    "y_pred = rf_classifier.predict_proba(X_test)\n",
    "y_pred = [i[1] for i in y_pred]\n",
    "\n",
    "# Calculate ROC curve and AUC\n",
    "fpr, tpr, thresholds = roc_curve(y_test, y_pred)\n",
    "auc = roc_auc_score(y_test, y_pred)\n",
    "\n",
    "# Plot the ROC curve\n",
    "plt.plot(fpr, tpr, label=f'AUC: {auc:.4f}')\n",
    "plt.plot([0, 1], [0, 1], linestyle='--', color='black')\n",
    "plt.xlabel('False Positive Rate')\n",
    "plt.ylabel('True Positive Rate')\n",
    "plt.title('Semifinalist and Finalist (Problem + Target)')\n",
    "plt.legend()\n",
    "plt.show()"
   ]
  },
  {
   "cell_type": "code",
   "execution_count": null,
   "metadata": {},
   "outputs": [],
   "source": []
  }
 ],
 "metadata": {
  "kernelspec": {
   "display_name": "base",
   "language": "python",
   "name": "python3"
  },
  "language_info": {
   "codemirror_mode": {
    "name": "ipython",
    "version": 3
   },
   "file_extension": ".py",
   "mimetype": "text/x-python",
   "name": "python",
   "nbconvert_exporter": "python",
   "pygments_lexer": "ipython3",
   "version": "3.10.9"
  }
 },
 "nbformat": 4,
 "nbformat_minor": 2
}
