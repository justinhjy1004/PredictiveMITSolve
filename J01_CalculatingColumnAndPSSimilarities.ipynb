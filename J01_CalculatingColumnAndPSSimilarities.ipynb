{
 "cells": [
  {
   "cell_type": "markdown",
   "metadata": {},
   "source": [
    "### Purpose of File\n",
    "This Notebook is mainly for three purposes\n",
    "1. Calculate Column Pairwise Similarity \n",
    "1. Agregate aforementioned pairwise similarity by solution\n",
    "1. Calculate similarity to Problem Statement in MIT Solve"
   ]
  },
  {
   "cell_type": "code",
   "execution_count": 2,
   "metadata": {},
   "outputs": [],
   "source": [
    "import pandas as pd\n",
    "from numpy import dot, mean\n",
    "from numpy.linalg import norm\n",
    "from itertools import combinations\n",
    "from encode import encoder"
   ]
  },
  {
   "cell_type": "code",
   "execution_count": 3,
   "metadata": {},
   "outputs": [],
   "source": [
    "## Calculation of Cosine similarity\n",
    "def cosine_similarity(a,b):\n",
    "    try:\n",
    "        cos_sim = dot(a, b)/(norm(a)*norm(b))\n",
    "        return cos_sim\n",
    "    except:\n",
    "        return None"
   ]
  },
  {
   "cell_type": "code",
   "execution_count": 4,
   "metadata": {},
   "outputs": [],
   "source": [
    "## Get Combinations of Relevant Columns\n",
    "df = pd.read_parquet(\"./Data/encoded.parquet\")\n",
    "columns = df.columns[3:]\n",
    "combination_pairs = list(combinations(columns,2))"
   ]
  },
  {
   "cell_type": "code",
   "execution_count": 5,
   "metadata": {},
   "outputs": [
    {
     "name": "stderr",
     "output_type": "stream",
     "text": [
      "/var/folders/3k/zk90yh5d7l72d_pjvqksx7hr0000gq/T/ipykernel_27751/2979081075.py:3: PerformanceWarning: DataFrame is highly fragmented.  This is usually the result of calling `frame.insert` many times, which has poor performance.  Consider joining all columns at once using pd.concat(axis=1) instead. To get a de-fragmented frame, use `newframe = frame.copy()`\n",
      "  df[c[0] + \"_\" + c[1]] = df.apply(lambda x: cosine_similarity(x[c[0]], x[c[1]]), axis=1 )\n",
      "/var/folders/3k/zk90yh5d7l72d_pjvqksx7hr0000gq/T/ipykernel_27751/2979081075.py:3: PerformanceWarning: DataFrame is highly fragmented.  This is usually the result of calling `frame.insert` many times, which has poor performance.  Consider joining all columns at once using pd.concat(axis=1) instead. To get a de-fragmented frame, use `newframe = frame.copy()`\n",
      "  df[c[0] + \"_\" + c[1]] = df.apply(lambda x: cosine_similarity(x[c[0]], x[c[1]]), axis=1 )\n",
      "/var/folders/3k/zk90yh5d7l72d_pjvqksx7hr0000gq/T/ipykernel_27751/2979081075.py:3: PerformanceWarning: DataFrame is highly fragmented.  This is usually the result of calling `frame.insert` many times, which has poor performance.  Consider joining all columns at once using pd.concat(axis=1) instead. To get a de-fragmented frame, use `newframe = frame.copy()`\n",
      "  df[c[0] + \"_\" + c[1]] = df.apply(lambda x: cosine_similarity(x[c[0]], x[c[1]]), axis=1 )\n",
      "/var/folders/3k/zk90yh5d7l72d_pjvqksx7hr0000gq/T/ipykernel_27751/2979081075.py:3: PerformanceWarning: DataFrame is highly fragmented.  This is usually the result of calling `frame.insert` many times, which has poor performance.  Consider joining all columns at once using pd.concat(axis=1) instead. To get a de-fragmented frame, use `newframe = frame.copy()`\n",
      "  df[c[0] + \"_\" + c[1]] = df.apply(lambda x: cosine_similarity(x[c[0]], x[c[1]]), axis=1 )\n",
      "/var/folders/3k/zk90yh5d7l72d_pjvqksx7hr0000gq/T/ipykernel_27751/2979081075.py:3: PerformanceWarning: DataFrame is highly fragmented.  This is usually the result of calling `frame.insert` many times, which has poor performance.  Consider joining all columns at once using pd.concat(axis=1) instead. To get a de-fragmented frame, use `newframe = frame.copy()`\n",
      "  df[c[0] + \"_\" + c[1]] = df.apply(lambda x: cosine_similarity(x[c[0]], x[c[1]]), axis=1 )\n",
      "/var/folders/3k/zk90yh5d7l72d_pjvqksx7hr0000gq/T/ipykernel_27751/2979081075.py:3: PerformanceWarning: DataFrame is highly fragmented.  This is usually the result of calling `frame.insert` many times, which has poor performance.  Consider joining all columns at once using pd.concat(axis=1) instead. To get a de-fragmented frame, use `newframe = frame.copy()`\n",
      "  df[c[0] + \"_\" + c[1]] = df.apply(lambda x: cosine_similarity(x[c[0]], x[c[1]]), axis=1 )\n",
      "/var/folders/3k/zk90yh5d7l72d_pjvqksx7hr0000gq/T/ipykernel_27751/2979081075.py:3: PerformanceWarning: DataFrame is highly fragmented.  This is usually the result of calling `frame.insert` many times, which has poor performance.  Consider joining all columns at once using pd.concat(axis=1) instead. To get a de-fragmented frame, use `newframe = frame.copy()`\n",
      "  df[c[0] + \"_\" + c[1]] = df.apply(lambda x: cosine_similarity(x[c[0]], x[c[1]]), axis=1 )\n",
      "/var/folders/3k/zk90yh5d7l72d_pjvqksx7hr0000gq/T/ipykernel_27751/2979081075.py:3: PerformanceWarning: DataFrame is highly fragmented.  This is usually the result of calling `frame.insert` many times, which has poor performance.  Consider joining all columns at once using pd.concat(axis=1) instead. To get a de-fragmented frame, use `newframe = frame.copy()`\n",
      "  df[c[0] + \"_\" + c[1]] = df.apply(lambda x: cosine_similarity(x[c[0]], x[c[1]]), axis=1 )\n",
      "/var/folders/3k/zk90yh5d7l72d_pjvqksx7hr0000gq/T/ipykernel_27751/2979081075.py:3: PerformanceWarning: DataFrame is highly fragmented.  This is usually the result of calling `frame.insert` many times, which has poor performance.  Consider joining all columns at once using pd.concat(axis=1) instead. To get a de-fragmented frame, use `newframe = frame.copy()`\n",
      "  df[c[0] + \"_\" + c[1]] = df.apply(lambda x: cosine_similarity(x[c[0]], x[c[1]]), axis=1 )\n",
      "/var/folders/3k/zk90yh5d7l72d_pjvqksx7hr0000gq/T/ipykernel_27751/2979081075.py:3: PerformanceWarning: DataFrame is highly fragmented.  This is usually the result of calling `frame.insert` many times, which has poor performance.  Consider joining all columns at once using pd.concat(axis=1) instead. To get a de-fragmented frame, use `newframe = frame.copy()`\n",
      "  df[c[0] + \"_\" + c[1]] = df.apply(lambda x: cosine_similarity(x[c[0]], x[c[1]]), axis=1 )\n",
      "/var/folders/3k/zk90yh5d7l72d_pjvqksx7hr0000gq/T/ipykernel_27751/2979081075.py:3: PerformanceWarning: DataFrame is highly fragmented.  This is usually the result of calling `frame.insert` many times, which has poor performance.  Consider joining all columns at once using pd.concat(axis=1) instead. To get a de-fragmented frame, use `newframe = frame.copy()`\n",
      "  df[c[0] + \"_\" + c[1]] = df.apply(lambda x: cosine_similarity(x[c[0]], x[c[1]]), axis=1 )\n",
      "/var/folders/3k/zk90yh5d7l72d_pjvqksx7hr0000gq/T/ipykernel_27751/2979081075.py:3: PerformanceWarning: DataFrame is highly fragmented.  This is usually the result of calling `frame.insert` many times, which has poor performance.  Consider joining all columns at once using pd.concat(axis=1) instead. To get a de-fragmented frame, use `newframe = frame.copy()`\n",
      "  df[c[0] + \"_\" + c[1]] = df.apply(lambda x: cosine_similarity(x[c[0]], x[c[1]]), axis=1 )\n",
      "/var/folders/3k/zk90yh5d7l72d_pjvqksx7hr0000gq/T/ipykernel_27751/2979081075.py:3: PerformanceWarning: DataFrame is highly fragmented.  This is usually the result of calling `frame.insert` many times, which has poor performance.  Consider joining all columns at once using pd.concat(axis=1) instead. To get a de-fragmented frame, use `newframe = frame.copy()`\n",
      "  df[c[0] + \"_\" + c[1]] = df.apply(lambda x: cosine_similarity(x[c[0]], x[c[1]]), axis=1 )\n",
      "/var/folders/3k/zk90yh5d7l72d_pjvqksx7hr0000gq/T/ipykernel_27751/2979081075.py:3: PerformanceWarning: DataFrame is highly fragmented.  This is usually the result of calling `frame.insert` many times, which has poor performance.  Consider joining all columns at once using pd.concat(axis=1) instead. To get a de-fragmented frame, use `newframe = frame.copy()`\n",
      "  df[c[0] + \"_\" + c[1]] = df.apply(lambda x: cosine_similarity(x[c[0]], x[c[1]]), axis=1 )\n",
      "/var/folders/3k/zk90yh5d7l72d_pjvqksx7hr0000gq/T/ipykernel_27751/2979081075.py:3: PerformanceWarning: DataFrame is highly fragmented.  This is usually the result of calling `frame.insert` many times, which has poor performance.  Consider joining all columns at once using pd.concat(axis=1) instead. To get a de-fragmented frame, use `newframe = frame.copy()`\n",
      "  df[c[0] + \"_\" + c[1]] = df.apply(lambda x: cosine_similarity(x[c[0]], x[c[1]]), axis=1 )\n",
      "/var/folders/3k/zk90yh5d7l72d_pjvqksx7hr0000gq/T/ipykernel_27751/2979081075.py:3: PerformanceWarning: DataFrame is highly fragmented.  This is usually the result of calling `frame.insert` many times, which has poor performance.  Consider joining all columns at once using pd.concat(axis=1) instead. To get a de-fragmented frame, use `newframe = frame.copy()`\n",
      "  df[c[0] + \"_\" + c[1]] = df.apply(lambda x: cosine_similarity(x[c[0]], x[c[1]]), axis=1 )\n",
      "/var/folders/3k/zk90yh5d7l72d_pjvqksx7hr0000gq/T/ipykernel_27751/2979081075.py:3: PerformanceWarning: DataFrame is highly fragmented.  This is usually the result of calling `frame.insert` many times, which has poor performance.  Consider joining all columns at once using pd.concat(axis=1) instead. To get a de-fragmented frame, use `newframe = frame.copy()`\n",
      "  df[c[0] + \"_\" + c[1]] = df.apply(lambda x: cosine_similarity(x[c[0]], x[c[1]]), axis=1 )\n",
      "/var/folders/3k/zk90yh5d7l72d_pjvqksx7hr0000gq/T/ipykernel_27751/2979081075.py:3: PerformanceWarning: DataFrame is highly fragmented.  This is usually the result of calling `frame.insert` many times, which has poor performance.  Consider joining all columns at once using pd.concat(axis=1) instead. To get a de-fragmented frame, use `newframe = frame.copy()`\n",
      "  df[c[0] + \"_\" + c[1]] = df.apply(lambda x: cosine_similarity(x[c[0]], x[c[1]]), axis=1 )\n",
      "/var/folders/3k/zk90yh5d7l72d_pjvqksx7hr0000gq/T/ipykernel_27751/2979081075.py:3: PerformanceWarning: DataFrame is highly fragmented.  This is usually the result of calling `frame.insert` many times, which has poor performance.  Consider joining all columns at once using pd.concat(axis=1) instead. To get a de-fragmented frame, use `newframe = frame.copy()`\n",
      "  df[c[0] + \"_\" + c[1]] = df.apply(lambda x: cosine_similarity(x[c[0]], x[c[1]]), axis=1 )\n",
      "/var/folders/3k/zk90yh5d7l72d_pjvqksx7hr0000gq/T/ipykernel_27751/2979081075.py:3: PerformanceWarning: DataFrame is highly fragmented.  This is usually the result of calling `frame.insert` many times, which has poor performance.  Consider joining all columns at once using pd.concat(axis=1) instead. To get a de-fragmented frame, use `newframe = frame.copy()`\n",
      "  df[c[0] + \"_\" + c[1]] = df.apply(lambda x: cosine_similarity(x[c[0]], x[c[1]]), axis=1 )\n",
      "/var/folders/3k/zk90yh5d7l72d_pjvqksx7hr0000gq/T/ipykernel_27751/2979081075.py:3: PerformanceWarning: DataFrame is highly fragmented.  This is usually the result of calling `frame.insert` many times, which has poor performance.  Consider joining all columns at once using pd.concat(axis=1) instead. To get a de-fragmented frame, use `newframe = frame.copy()`\n",
      "  df[c[0] + \"_\" + c[1]] = df.apply(lambda x: cosine_similarity(x[c[0]], x[c[1]]), axis=1 )\n",
      "/var/folders/3k/zk90yh5d7l72d_pjvqksx7hr0000gq/T/ipykernel_27751/2979081075.py:3: PerformanceWarning: DataFrame is highly fragmented.  This is usually the result of calling `frame.insert` many times, which has poor performance.  Consider joining all columns at once using pd.concat(axis=1) instead. To get a de-fragmented frame, use `newframe = frame.copy()`\n",
      "  df[c[0] + \"_\" + c[1]] = df.apply(lambda x: cosine_similarity(x[c[0]], x[c[1]]), axis=1 )\n"
     ]
    }
   ],
   "source": [
    "## Iterate through the Pairs of Columns\n",
    "for c in combination_pairs:\n",
    "    df[c[0] + \"_\" + c[1]] = df.apply(lambda x: cosine_similarity(x[c[0]], x[c[1]]), axis=1 )\n",
    "\n",
    "\n",
    "df = df.drop(columns, axis=1)\n",
    "df.to_csv(\"./Data/ColumnPairwiseSimilarity.csv\", index=None)"
   ]
  },
  {
   "cell_type": "code",
   "execution_count": 6,
   "metadata": {},
   "outputs": [],
   "source": [
    "## Reshape the dataframe\n",
    "## Change the pairwise columns from columns to rows\n",
    "## Calculate the Mean\n",
    "sim = df.drop([\"Challenge\", \"Status\"], axis=1) \\\n",
    "        .melt(id_vars=\"ID\").groupby(\"variable\") \\\n",
    "        .agg(mean) \\\n",
    "        .reset_index()\n",
    "\n",
    "## Sort from MOST similar to LEAST\n",
    "sim = sim.sort_values(\"value\", ascending=False) \\\n",
    "         .drop([\"ID\"], axis=1)\n",
    "\n",
    "sim.columns = [\"CombinationPair\", \"CosineSimilarity\"]\n",
    "\n",
    "sim.to_csv(\"./Data/AggregatedColumnPairwiseSimilarity.csv\", index=None)"
   ]
  },
  {
   "cell_type": "code",
   "execution_count": 7,
   "metadata": {},
   "outputs": [],
   "source": [
    "## Get the Problem Statement\n",
    "df = pd.read_parquet(\"./Data/encoded.parquet\")\n",
    "ps = pd.read_csv(\"./Data/ProblemStatements.csv\")\n",
    "\n",
    "## Merge the Problem Statement to appropriate Challenge\n",
    "ps = ps[[\"Challenge\", \"Problem_Statement\"]].dropna()\n",
    "ps[\"Problem_Statement\"] = ps[\"Problem_Statement\"].apply(encoder)\n",
    "df = df.merge(ps, how=\"left\", on = \"Challenge\")"
   ]
  },
  {
   "cell_type": "code",
   "execution_count": 8,
   "metadata": {},
   "outputs": [],
   "source": [
    "## Iterate through all columns to calculate similarity\n",
    "for c in columns:\n",
    "    df[c] = df.apply(lambda x: cosine_similarity(x[c], x[\"Problem_Statement\"]), axis=1)\n",
    "\n",
    "## Write to CSV\n",
    "df.drop([\"Problem_Statement\"], axis = 1).to_csv(\"./Data/SimilarityToPS.csv\", index = None)"
   ]
  }
 ],
 "metadata": {
  "kernelspec": {
   "display_name": "base",
   "language": "python",
   "name": "python3"
  },
  "language_info": {
   "codemirror_mode": {
    "name": "ipython",
    "version": 3
   },
   "file_extension": ".py",
   "mimetype": "text/x-python",
   "name": "python",
   "nbconvert_exporter": "python",
   "pygments_lexer": "ipython3",
   "version": "3.10.9"
  }
 },
 "nbformat": 4,
 "nbformat_minor": 2
}
